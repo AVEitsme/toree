{
 "cells": [
  {
   "cell_type": "code",
   "execution_count": 1,
   "id": "fb8994a4-3e94-448d-b738-139b9a371381",
   "metadata": {},
   "outputs": [],
   "source": [
    "import util.Random\n",
    "import org.apache.spark.sql.SparkSession"
   ]
  },
  {
   "cell_type": "code",
   "execution_count": 2,
   "id": "028449ad-c7b6-47fe-a058-cb1d73d2c4f5",
   "metadata": {},
   "outputs": [
    {
     "data": {
      "text/plain": [
       "defined object HelloScala\n"
      ]
     },
     "metadata": {},
     "output_type": "display_data",
     "source": "user"
    }
   ],
   "source": [
    "object HelloScala {\n",
    "    def main(len: Int): Int = {\n",
    "\n",
    "        val spark = SparkSession.builder().appName(\"HelloScala\").master(\"local\").getOrCreate()\n",
    "\n",
    "        val random_array = Array.fill(len)(Random.nextInt)\n",
    "        val rdd = sc.parallelize(random_array)\n",
    "        val df = rdd.toDF(\"r_n\")\n",
    "        df.createOrReplaceTempView(\"random_array\")\n",
    "        val result = spark.sql(\"SELECT MAX(r_n) FROM random_array\").collect()(0).getInt(0) \n",
    "        \n",
    "        spark.stop()\n",
    "        \n",
    "        return result\n",
    "    }\n",
    "}"
   ]
  },
  {
   "cell_type": "code",
   "execution_count": 3,
   "id": "cbf311dc-171f-4218-9211-274151214484",
   "metadata": {},
   "outputs": [
    {
     "data": {
      "text/plain": [
       "-668931778"
      ]
     },
     "execution_count": 3,
     "metadata": {},
     "output_type": "execute_result"
    }
   ],
   "source": [
    "HelloScala.main(3)"
   ]
  }
 ],
 "metadata": {
  "kernelspec": {
   "display_name": "Apache Toree - Scala",
   "language": "scala",
   "name": "apache_toree_scala"
  },
  "language_info": {
   "codemirror_mode": "text/x-scala",
   "file_extension": ".scala",
   "mimetype": "text/x-scala",
   "name": "scala",
   "pygments_lexer": "scala",
   "version": "2.12.15"
  }
 },
 "nbformat": 4,
 "nbformat_minor": 5
}
